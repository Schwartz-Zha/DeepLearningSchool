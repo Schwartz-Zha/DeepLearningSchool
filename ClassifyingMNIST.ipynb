{
 "cells": [
  {
   "cell_type": "code",
   "execution_count": 17,
   "metadata": {},
   "outputs": [],
   "source": [
    "from keras.datasets import mnist\n",
    "from keras.utils import to_categorical\n",
    "\n",
    "(train_images,train_labels),(test_images,test_labels)=mnist.load_data()\n",
    "\n",
    "train_images = train_images.reshape((60000,28,28,1))\n",
    "train_images=train_images.astype('float32')/255\n",
    "test_images = test_images.reshape((10000,28,28,1))\n",
    "test_images=test_images.astype('float32')/255\n",
    "\n",
    "train_labels = to_categorical(train_labels)\n",
    "test_labels = to_categorical(test_labels)"
   ]
  },
  {
   "cell_type": "code",
   "execution_count": 18,
   "metadata": {},
   "outputs": [
    {
     "name": "stdout",
     "output_type": "stream",
     "text": [
      "_________________________________________________________________\n",
      "Layer (type)                 Output Shape              Param #   \n",
      "=================================================================\n",
      "conv2d_10 (Conv2D)           (None, 26, 26, 32)        320       \n",
      "_________________________________________________________________\n",
      "max_pooling2d_7 (MaxPooling2 (None, 13, 13, 32)        0         \n",
      "_________________________________________________________________\n",
      "conv2d_11 (Conv2D)           (None, 11, 11, 64)        18496     \n",
      "_________________________________________________________________\n",
      "max_pooling2d_8 (MaxPooling2 (None, 5, 5, 64)          0         \n",
      "_________________________________________________________________\n",
      "conv2d_12 (Conv2D)           (None, 3, 3, 64)          36928     \n",
      "_________________________________________________________________\n",
      "flatten_3 (Flatten)          (None, 576)               0         \n",
      "_________________________________________________________________\n",
      "dense_17 (Dense)             (None, 64)                36928     \n",
      "_________________________________________________________________\n",
      "dense_18 (Dense)             (None, 10)                650       \n",
      "=================================================================\n",
      "Total params: 93,322\n",
      "Trainable params: 93,322\n",
      "Non-trainable params: 0\n",
      "_________________________________________________________________\n"
     ]
    }
   ],
   "source": [
    "from keras import models\n",
    "from keras import layers\n",
    "mnist_cnn_model=models.Sequential()\n",
    "\n",
    "\n",
    "mnist_cnn_model.add(layers.Conv2D(32,(3,3),activation='relu',input_shape=(28,28,1)))\n",
    "mnist_cnn_model.add(layers.MaxPooling2D(2,2))\n",
    "\n",
    "mnist_cnn_model.add(layers.Conv2D(64,(3,3),activation='relu'))\n",
    "mnist_cnn_model.add(layers.MaxPooling2D((2,2)))\n",
    "\n",
    "mnist_cnn_model.add(layers.Conv2D(64,(3,3), activation='relu'))\n",
    "mnist_cnn_model.add(layers.Flatten())\n",
    "mnist_cnn_model.add(layers.Dense(64,activation='relu'))\n",
    "mnist_cnn_model.add(layers.Dense(10,activation='softmax'))\n",
    "mnist_cnn_model.summary()"
   ]
  },
  {
   "cell_type": "code",
   "execution_count": 19,
   "metadata": {},
   "outputs": [
    {
     "name": "stdout",
     "output_type": "stream",
     "text": [
      "Epoch 1/5\n",
      "60000/60000 [==============================] - 16s 267us/step - loss: 0.1872 - acc: 0.9421\n",
      "Epoch 2/5\n",
      "60000/60000 [==============================] - 21s 349us/step - loss: 0.0491 - acc: 0.9853\n",
      "Epoch 3/5\n",
      "60000/60000 [==============================] - 20s 342us/step - loss: 0.0344 - acc: 0.9893\n",
      "Epoch 4/5\n",
      "60000/60000 [==============================] - 21s 346us/step - loss: 0.0263 - acc: 0.9922\n",
      "Epoch 5/5\n",
      "60000/60000 [==============================] - 21s 346us/step - loss: 0.0195 - acc: 0.9940\n",
      "10000/10000 [==============================] - 1s 131us/step\n"
     ]
    },
    {
     "data": {
      "text/plain": [
       "0.9901"
      ]
     },
     "execution_count": 19,
     "metadata": {},
     "output_type": "execute_result"
    }
   ],
   "source": [
    "mnist_cnn_model.compile(optimizer='rmsprop',loss='categorical_crossentropy',metrics=['accuracy'])\n",
    "\n",
    "mnist_cnn_model.fit(train_images,train_labels,epochs=5,batch_size=64)\n",
    "\n",
    "test_loss,test_acc=mnist_cnn_model.evaluate(test_images,test_labels)\n",
    "test_acc"
   ]
  }
 ],
 "metadata": {
  "kernelspec": {
   "display_name": "Python 3",
   "language": "python",
   "name": "python3"
  },
  "language_info": {
   "codemirror_mode": {
    "name": "ipython",
    "version": 3
   },
   "file_extension": ".py",
   "mimetype": "text/x-python",
   "name": "python",
   "nbconvert_exporter": "python",
   "pygments_lexer": "ipython3",
   "version": "3.6.7"
  }
 },
 "nbformat": 4,
 "nbformat_minor": 2
}
